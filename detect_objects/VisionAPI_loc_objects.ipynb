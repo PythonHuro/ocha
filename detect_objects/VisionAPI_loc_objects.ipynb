{
 "cells": [
  {
   "cell_type": "markdown",
   "metadata": {},
   "source": [
    "### 🐍環境変数に.jsonファイルの場所を追加している。"
   ]
  },
  {
   "cell_type": "code",
   "execution_count": 1,
   "metadata": {},
   "outputs": [],
   "source": [
    "import os\n",
    "import io\n",
    "from PIL import Image, ImageDraw, ImageFont\n",
    "os.environ[\"GOOGLE_APPLICATION_CREDENTIALS\"]= \"C:/Users/Kanazashi/github/Voice2Text.json\""
   ]
  },
  {
   "cell_type": "markdown",
   "metadata": {},
   "source": [
    "### 🐍矩形を描画する\n",
    "- 引数：描画ファイル(pil.ImageDraw()のやつ)、左上の座標と右下の座標のタプル、矩形の色、矩形の太さ\n",
    "- pillowには、矩形の線分の太さを変更するオプションがなかったため、任意の太さで描画できるように定義した。\n",
    "- 太さ1の矩形をwidthの回数分だけ描画している。\n",
    "- ソースは[ここ](https://stackoverflow.com/questions/34255938/is-there-a-way-to-specify-the-width-of-a-rectangle-in-pil)"
   ]
  },
  {
   "cell_type": "code",
   "execution_count": 2,
   "metadata": {},
   "outputs": [],
   "source": [
    "def draw_rectangle(draw, coordinates, color, width=1):\n",
    "    for i in range(width):\n",
    "        rect_start = (coordinates[0][0] - i, coordinates[0][1] - i)\n",
    "        rect_end = (coordinates[1][0] + i, coordinates[1][1] + i)\n",
    "        draw.rectangle((rect_start, rect_end), outline = color)\n",
    "        \n",
    "    return"
   ]
  },
  {
   "cell_type": "markdown",
   "metadata": {},
   "source": [
    "### 🐍物体の位置と種類を取得\n",
    "- 引数：画像ファイル名\n",
    "- 返り値：objects(物体の名前、位置情報、確信度を含む)"
   ]
  },
  {
   "cell_type": "code",
   "execution_count": 3,
   "metadata": {},
   "outputs": [],
   "source": [
    "def localize_objects(file_path):\n",
    "\n",
    "    from google.cloud import vision_v1p3beta1 as vision\n",
    "    client = vision.ImageAnnotatorClient()\n",
    "\n",
    "    with open(file_path, 'rb') as image_file:\n",
    "        content = image_file.read()\n",
    "    image = vision.types.Image(content=content)\n",
    "\n",
    "    objects = client.object_localization(\n",
    "        image=image).localized_object_annotations\n",
    "    \n",
    "    return objects"
   ]
  },
  {
   "cell_type": "markdown",
   "metadata": {},
   "source": [
    "### 🐍物体を囲む矩形と、物体名のテキストを描画する\n",
    "- 引数：localize_objectにより返されるobjects、画像ファイル名、出力ファイル名（オプション）\n",
    "- 返り値：なし\n",
    "- 出力：画像ファイル"
   ]
  },
  {
   "cell_type": "code",
   "execution_count": 4,
   "metadata": {},
   "outputs": [],
   "source": [
    "def draw_objects(objects, file_path, savefile_path='Output.jpg'):\n",
    "    \n",
    "    img = Image.open(file_path)\n",
    "    draw = ImageDraw.Draw(img)\n",
    "    fnt = ImageFont.truetype('resource/yasashisa.ttf',30)\n",
    "    \n",
    "    for object_ in objects:\n",
    "        vects_normalized = object_.bounding_poly.normalized_vertices\n",
    "        vects = ((vects_normalized[0].x * img.size[0], vects_normalized[0].y * img.size[1]),(vects_normalized[2].x * img.size[0], vects_normalized[2].y * img.size[1]))\n",
    "        outline_width = 5\n",
    "        outline_color = 'red'\n",
    "        \n",
    "        draw_rectangle(draw, vects, outline_color, outline_width)\n",
    "        \n",
    "        left_bottom_coordinate = (vects_normalized[0].x * img.size[0], vects_normalized[2].y * img.size[1])\n",
    "        \n",
    "        draw.text(left_bottom_coordinate,'物体：{}'.format(object_.name) , fill=(255, 0, 0), font=fnt)\n",
    "\n",
    "    \n",
    "    img.save(savefile_path, 'JPEG')\n",
    "    print('Saved ' + savefile_path)"
   ]
  },
  {
   "cell_type": "markdown",
   "metadata": {},
   "source": [
    "### 🐍物体を囲む矩形で切り出し\n",
    "- save_name(保存される名前)には、'物体名'、'信頼度'を含めている。信頼度がないと、同じ物体が2つ画像上にあるときに、重複して保存されてしまう。\n",
    "- 矩形を描画する前に行わないと、描画された矩形が切り取り画像に入ってしまってなんか嫌な感じになる。"
   ]
  },
  {
   "cell_type": "code",
   "execution_count": 5,
   "metadata": {},
   "outputs": [],
   "source": [
    "def crop_objects(image, objects):\n",
    "    for object_ in objects:\n",
    "        \n",
    "        vects_normalized = object_.bounding_poly.normalized_vertices\n",
    "        vects = ((vects_normalized[0].x * image.size[0], vects_normalized[0].y * image.size[1]),(vects_normalized[2].x * image.size[0], vects_normalized[2].y * image.size[1]))\n",
    "        \n",
    "        object_name = object_.name\n",
    "        object_score = object_.score\n",
    "        save_name = 'save/{}_{}.png'.format(object_name, object_score)\n",
    "        \n",
    "        image.crop((vects[0][0], vects[0][1], vects[1][0], vects[1][1])).save(save_name)"
   ]
  },
  {
   "cell_type": "markdown",
   "metadata": {},
   "source": [
    "### 🐍以下、実行部分"
   ]
  },
  {
   "cell_type": "code",
   "execution_count": 6,
   "metadata": {},
   "outputs": [],
   "source": [
    "file_path = 'resource/good_objects.png'"
   ]
  },
  {
   "cell_type": "code",
   "execution_count": 7,
   "metadata": {},
   "outputs": [],
   "source": [
    "objects = localize_objects(file_path)"
   ]
  },
  {
   "cell_type": "code",
   "execution_count": 8,
   "metadata": {},
   "outputs": [],
   "source": [
    "# オブジェクトを切り散る関数\n",
    "# これは矩形を描画する前に行わないと、描画された矩形が切り取り画像に入ってしまってなんか嫌な感じになる。\n",
    "\n",
    "image = Image.open(file_path)\n",
    "crop_objects(image, objects)"
   ]
  },
  {
   "cell_type": "code",
   "execution_count": 9,
   "metadata": {},
   "outputs": [
    {
     "name": "stdout",
     "output_type": "stream",
     "text": [
      "Saved Output.jpg\n"
     ]
    }
   ],
   "source": [
    "draw_objects(objects, file_path)"
   ]
  },
  {
   "cell_type": "code",
   "execution_count": 10,
   "metadata": {},
   "outputs": [
    {
     "data": {
      "text/plain": [
       "[mid: \"/m/014j1m\"\n",
       "name: \"Apple\"\n",
       "score: 0.9859510660171509\n",
       "bounding_poly {\n",
       "  normalized_vertices {\n",
       "    x: 0.06164705008268356\n",
       "    y: 0.4399999976158142\n",
       "  }\n",
       "  normalized_vertices {\n",
       "    x: 0.3799999952316284\n",
       "    y: 0.4399999976158142\n",
       "  }\n",
       "  normalized_vertices {\n",
       "    x: 0.3799999952316284\n",
       "    y: 0.8228235840797424\n",
       "  }\n",
       "  normalized_vertices {\n",
       "    x: 0.06164705008268356\n",
       "    y: 0.8228235840797424\n",
       "  }\n",
       "}\n",
       ", mid: \"/m/02xwb\"\n",
       "name: \"Fruit\"\n",
       "score: 0.898166835308075\n",
       "bounding_poly {\n",
       "  normalized_vertices {\n",
       "    x: 0.06164705008268356\n",
       "    y: 0.4399999976158142\n",
       "  }\n",
       "  normalized_vertices {\n",
       "    x: 0.3799999952316284\n",
       "    y: 0.4399999976158142\n",
       "  }\n",
       "  normalized_vertices {\n",
       "    x: 0.3799999952316284\n",
       "    y: 0.8228235840797424\n",
       "  }\n",
       "  normalized_vertices {\n",
       "    x: 0.06164705008268356\n",
       "    y: 0.8228235840797424\n",
       "  }\n",
       "}\n",
       ", mid: \"/m/04dr76w\"\n",
       "name: \"Bottle\"\n",
       "score: 0.795123815536499\n",
       "bounding_poly {\n",
       "  normalized_vertices {\n",
       "    x: 0.3258163630962372\n",
       "    y: 0.03386794775724411\n",
       "  }\n",
       "  normalized_vertices {\n",
       "    x: 0.49653664231300354\n",
       "    y: 0.03386794775724411\n",
       "  }\n",
       "  normalized_vertices {\n",
       "    x: 0.49653664231300354\n",
       "    y: 0.4308379292488098\n",
       "  }\n",
       "  normalized_vertices {\n",
       "    x: 0.3258163630962372\n",
       "    y: 0.4308379292488098\n",
       "  }\n",
       "}\n",
       ", mid: \"/m/04dr76w\"\n",
       "name: \"Bottle\"\n",
       "score: 0.7825623154640198\n",
       "bounding_poly {\n",
       "  normalized_vertices {\n",
       "    x: 0.5935810804367065\n",
       "    y: 0.055044420063495636\n",
       "  }\n",
       "  normalized_vertices {\n",
       "    x: 0.769948422908783\n",
       "    y: 0.055044420063495636\n",
       "  }\n",
       "  normalized_vertices {\n",
       "    x: 0.769948422908783\n",
       "    y: 0.46989673376083374\n",
       "  }\n",
       "  normalized_vertices {\n",
       "    x: 0.5935810804367065\n",
       "    y: 0.46989673376083374\n",
       "  }\n",
       "}\n",
       ", mid: \"/m/03_wxk\"\n",
       "name: \"Kitchenware\"\n",
       "score: 0.6922460198402405\n",
       "bounding_poly {\n",
       "  normalized_vertices {\n",
       "    x: 0.5935810804367065\n",
       "    y: 0.055044420063495636\n",
       "  }\n",
       "  normalized_vertices {\n",
       "    x: 0.769948422908783\n",
       "    y: 0.055044420063495636\n",
       "  }\n",
       "  normalized_vertices {\n",
       "    x: 0.769948422908783\n",
       "    y: 0.46989673376083374\n",
       "  }\n",
       "  normalized_vertices {\n",
       "    x: 0.5935810804367065\n",
       "    y: 0.46989673376083374\n",
       "  }\n",
       "}\n",
       ", mid: \"/m/020lf\"\n",
       "name: \"Mouse\"\n",
       "score: 0.679950475692749\n",
       "bounding_poly {\n",
       "  normalized_vertices {\n",
       "    x: 0.5077646970748901\n",
       "    y: 0.5555294156074524\n",
       "  }\n",
       "  normalized_vertices {\n",
       "    x: 0.8195294141769409\n",
       "    y: 0.5555294156074524\n",
       "  }\n",
       "  normalized_vertices {\n",
       "    x: 0.8195294141769409\n",
       "    y: 0.9341176152229309\n",
       "  }\n",
       "  normalized_vertices {\n",
       "    x: 0.5077646970748901\n",
       "    y: 0.9341176152229309\n",
       "  }\n",
       "}\n",
       ", mid: \"/m/03_wxk\"\n",
       "name: \"Kitchenware\"\n",
       "score: 0.6687844395637512\n",
       "bounding_poly {\n",
       "  normalized_vertices {\n",
       "    x: 0.3258163630962372\n",
       "    y: 0.03386794775724411\n",
       "  }\n",
       "  normalized_vertices {\n",
       "    x: 0.49653664231300354\n",
       "    y: 0.03386794775724411\n",
       "  }\n",
       "  normalized_vertices {\n",
       "    x: 0.49653664231300354\n",
       "    y: 0.4308379292488098\n",
       "  }\n",
       "  normalized_vertices {\n",
       "    x: 0.3258163630962372\n",
       "    y: 0.4308379292488098\n",
       "  }\n",
       "}\n",
       ", mid: \"/m/02wbm\"\n",
       "name: \"Food\"\n",
       "score: 0.6465809941291809\n",
       "bounding_poly {\n",
       "  normalized_vertices {\n",
       "    x: 0.06164705008268356\n",
       "    y: 0.4399999976158142\n",
       "  }\n",
       "  normalized_vertices {\n",
       "    x: 0.3799999952316284\n",
       "    y: 0.4399999976158142\n",
       "  }\n",
       "  normalized_vertices {\n",
       "    x: 0.3799999952316284\n",
       "    y: 0.8228235840797424\n",
       "  }\n",
       "  normalized_vertices {\n",
       "    x: 0.06164705008268356\n",
       "    y: 0.8228235840797424\n",
       "  }\n",
       "}\n",
       "]"
      ]
     },
     "execution_count": 10,
     "metadata": {},
     "output_type": "execute_result"
    }
   ],
   "source": [
    "objects"
   ]
  },
  {
   "cell_type": "code",
   "execution_count": null,
   "metadata": {},
   "outputs": [],
   "source": []
  }
 ],
 "metadata": {
  "kernelspec": {
   "display_name": "Python 3",
   "language": "python",
   "name": "python3"
  },
  "language_info": {
   "codemirror_mode": {
    "name": "ipython",
    "version": 3
   },
   "file_extension": ".py",
   "mimetype": "text/x-python",
   "name": "python",
   "nbconvert_exporter": "python",
   "pygments_lexer": "ipython3",
   "version": "3.6.8"
  }
 },
 "nbformat": 4,
 "nbformat_minor": 2
}
