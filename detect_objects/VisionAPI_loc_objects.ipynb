{
 "cells": [
  {
   "cell_type": "markdown",
   "metadata": {},
   "source": [
    "### 🐍環境変数に.jsonファイルの場所を追加している。"
   ]
  },
  {
   "cell_type": "code",
   "execution_count": null,
   "metadata": {},
   "outputs": [],
   "source": [
    "import os\n",
    "import io\n",
    "from PIL import Image, ImageDraw, ImageFont\n",
    "os.environ[\"GOOGLE_APPLICATION_CREDENTIALS\"]= \"***/***/***.json\""
   ]
  },
  {
   "cell_type": "markdown",
   "metadata": {},
   "source": [
    "### 🐍矩形を描画する\n",
    "- 引数：描画ファイル(pil.ImageDraw()のやつ)、左上の座標と右下の座標のタプル、矩形の色、矩形の太さ\n",
    "- pillowには、矩形の線分の太さを変更するオプションがなかったため、任意の太さで描画できるように定義した。\n",
    "- 太さ1の矩形をwidthの回数分だけ描画している。\n",
    "- ソースは[ここ](https://stackoverflow.com/questions/34255938/is-there-a-way-to-specify-the-width-of-a-rectangle-in-pil)"
   ]
  },
  {
   "cell_type": "code",
   "execution_count": null,
   "metadata": {},
   "outputs": [],
   "source": [
    "def draw_rectangle(draw, coordinates, color, width=1):\n",
    "    for i in range(width):\n",
    "        rect_start = (coordinates[0][0] - i, coordinates[0][1] - i)\n",
    "        rect_end = (coordinates[1][0] + i, coordinates[1][1] + i)\n",
    "        draw.rectangle((rect_start, rect_end), outline = color)\n",
    "        \n",
    "    return"
   ]
  },
  {
   "cell_type": "markdown",
   "metadata": {},
   "source": [
    "### 🐍物体の位置と種類を取得\n",
    "- 引数：画像ファイル名\n",
    "- 返り値：objects(物体の名前、位置情報、確信度を含む)"
   ]
  },
  {
   "cell_type": "code",
   "execution_count": null,
   "metadata": {},
   "outputs": [],
   "source": [
    "def localize_objects(file_path):\n",
    "\n",
    "    from google.cloud import vision_v1p3beta1 as vision\n",
    "    client = vision.ImageAnnotatorClient()\n",
    "\n",
    "    with open(file_path, 'rb') as image_file:\n",
    "        content = image_file.read()\n",
    "    image = vision.types.Image(content=content)\n",
    "\n",
    "    objects = client.object_localization(\n",
    "        image=image).localized_object_annotations\n",
    "    \n",
    "    return objects"
   ]
  },
  {
   "cell_type": "markdown",
   "metadata": {},
   "source": [
    "### 🐍物体を囲む矩形と、物体名のテキストを描画する\n",
    "- 引数：localize_objectにより返されるobjects、画像ファイル名、出力ファイル名（オプション）\n",
    "- 返り値：なし\n",
    "- 出力：画像ファイル"
   ]
  },
  {
   "cell_type": "code",
   "execution_count": null,
   "metadata": {},
   "outputs": [],
   "source": [
    "def draw_objects(objects, file_path, savefile_path='Output.jpg'):\n",
    "    \n",
    "    img = Image.open(file_path)\n",
    "    draw = ImageDraw.Draw(img)\n",
    "    fnt = ImageFont.truetype('resource/yasashisa.ttf',60)\n",
    "    \n",
    "    for object_ in objects:\n",
    "        vects_normalized = object_.bounding_poly.normalized_vertices\n",
    "        vects = ((vects_normalized[0].x * img.size[0], vects_normalized[0].y * img.size[1]),(vects_normalized[2].x * img.size[0], vects_normalized[2].y * img.size[1]))\n",
    "        outline_width = 10\n",
    "        outline_color = 'red'\n",
    "        \n",
    "        draw_rectangle(draw, vects, outline_color, outline_width)\n",
    "        \n",
    "        left_bottom_coordinate = (vects_normalized[0].x * img.size[0], vects_normalized[2].y * img.size[1])\n",
    "        \n",
    "        draw.text(left_bottom_coordinate,'物体：{}'.format(object_.name) , fill=(255, 0, 0), font=fnt)\n",
    "\n",
    "    \n",
    "    img.save(savefile_path, 'JPEG')\n",
    "    print('Saved ' + savefile_path)"
   ]
  },
  {
   "cell_type": "markdown",
   "metadata": {},
   "source": [
    "### 🐍以下、実行部分"
   ]
  },
  {
   "cell_type": "code",
   "execution_count": null,
   "metadata": {},
   "outputs": [],
   "source": [
    "file_path = 'resource/objects.jpg'"
   ]
  },
  {
   "cell_type": "code",
   "execution_count": null,
   "metadata": {},
   "outputs": [],
   "source": [
    "objects = localize_objects(file_path)"
   ]
  },
  {
   "cell_type": "code",
   "execution_count": null,
   "metadata": {},
   "outputs": [],
   "source": [
    "draw_objects(objects, file_path)"
   ]
  }
 ],
 "metadata": {
  "kernelspec": {
   "display_name": "Python 3",
   "language": "python",
   "name": "python3"
  },
  "language_info": {
   "codemirror_mode": {
    "name": "ipython",
    "version": 3
   },
   "file_extension": ".py",
   "mimetype": "text/x-python",
   "name": "python",
   "nbconvert_exporter": "python",
   "pygments_lexer": "ipython3",
   "version": "3.6.8"
  }
 },
 "nbformat": 4,
 "nbformat_minor": 2
}
